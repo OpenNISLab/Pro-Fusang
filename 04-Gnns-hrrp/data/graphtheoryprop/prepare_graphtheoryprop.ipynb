{
 "cells": [
  {
   "cell_type": "markdown",
   "metadata": {},
   "source": [
    "# Notebook for preparing and saving GraphTheoryProp graphs"
   ]
  },
  {
   "cell_type": "code",
   "execution_count": 1,
   "metadata": {},
   "outputs": [],
   "source": [
    "import numpy as np\n",
    "import torch\n",
    "import pickle\n",
    "import time\n",
    "import os\n",
    "%matplotlib inline\n",
    "import matplotlib.pyplot as plt\n"
   ]
  },
  {
   "cell_type": "markdown",
   "metadata": {},
   "source": [
    "# Download GraphTheoryProp dataset\n",
    "Actual source https://github.com/lukecavabarrett/pna"
   ]
  },
  {
   "cell_type": "code",
   "execution_count": 8,
   "metadata": {},
   "outputs": [
    {
     "name": "stdout",
     "output_type": "stream",
     "text": [
      "File already downloaded\n"
     ]
    }
   ],
   "source": [
    "if not os.path.isfile('multitask_dataset.pkl'):\n",
    "    print('downloading..')\n",
    "    !curl https://www.dropbox.com/s/zdevjruk7k6yuqc/multitask_dataset.pkl?dl=1 -o multitask_dataset.pkl -J -L -k\n",
    "else:\n",
    "    print('File already downloaded')\n",
    "    "
   ]
  },
  {
   "cell_type": "markdown",
   "metadata": {},
   "source": [
    "# Convert to DGL format and save with pickle"
   ]
  },
  {
   "cell_type": "code",
   "execution_count": null,
   "metadata": {},
   "outputs": [],
   "source": [
    "import os\n",
    "os.chdir('../../') # go to root folder of the project\n",
    "print(os.getcwd())\n"
   ]
  },
  {
   "cell_type": "code",
   "execution_count": 10,
   "metadata": {},
   "outputs": [
    {
     "name": "stderr",
     "output_type": "stream",
     "text": [
      "WARNING:root:The OGB package is out of date. Your version is 1.2.3, while the latest version is 1.3.1.\n"
     ]
    }
   ],
   "source": [
    "import pickle\n",
    "\n",
    "%load_ext autoreload\n",
    "%autoreload 2\n",
    "\n",
    "from data.graphtheoryprop import GraphTheoryPropDatasetDGL \n",
    "\n",
    "from data.data import LoadData\n",
    "from torch.utils.data import DataLoader\n",
    "from data.graphtheoryprop import GraphTheoryPropDataset\n"
   ]
  },
  {
   "cell_type": "code",
   "execution_count": 14,
   "metadata": {},
   "outputs": [
    {
     "name": "stdout",
     "output_type": "stream",
     "text": [
      "preparing graphs for the TRAIN set...\n",
      "preparing graphs for the VAL set...\n",
      "preparing graphs for the TEST set...\n",
      "Time taken: 4.2379s\n"
     ]
    }
   ],
   "source": [
    "DATASET_NAME = 'GraphTheoryProp'\n",
    "dataset = GraphTheoryPropDatasetDGL(DATASET_NAME) "
   ]
  },
  {
   "cell_type": "code",
   "execution_count": 15,
   "metadata": {},
   "outputs": [
    {
     "data": {
      "image/png": "[encoded data removed]",
      "text/plain": [
       "<Figure size 432x288 with 1 Axes>"
      ]
     },
     "metadata": {
      "needs_background": "light"
     },
     "output_type": "display_data"
    },
    {
     "name": "stdout",
     "output_type": "stream",
     "text": [
      "min/max : 15 24\n"
     ]
    },
    {
     "data": {
      "image/png": "[encoded data removed]",
      "text/plain": [
       "<Figure size 432x288 with 1 Axes>"
      ]
     },
     "metadata": {
      "needs_background": "light"
     },
     "output_type": "display_data"
    },
    {
     "name": "stdout",
     "output_type": "stream",
     "text": [
      "min/max : 15 19\n"
     ]
    },
    {
     "data": {
      "image/png": "[encoded data removed]",
      "text/plain": [
       "<Figure size 432x288 with 1 Axes>"
      ]
     },
     "metadata": {
      "needs_background": "light"
     },
     "output_type": "display_data"
    },
    {
     "name": "stdout",
     "output_type": "stream",
     "text": [
      "min/max : 15 19\n"
     ]
    }
   ],
   "source": [
    "def plot_histo_graphs(dataset, title):\n",
    "    # histogram of graph sizes\n",
    "    graph_sizes = []\n",
    "    for graph in dataset:\n",
    "        graph_sizes.append(graph[0].number_of_nodes())\n",
    "    plt.figure(1)\n",
    "    plt.hist(graph_sizes, bins=20)\n",
    "    plt.title(title)\n",
    "    plt.show()\n",
    "    graph_sizes = torch.Tensor(graph_sizes)\n",
    "    print('min/max :',graph_sizes.min().long().item(),graph_sizes.max().long().item())\n",
    "    \n",
    "plot_histo_graphs(dataset.train,'trainset')\n",
    "plot_histo_graphs(dataset.val,'valset')\n",
    "plot_histo_graphs(dataset.test,'testset')\n"
   ]
  },
  {
   "cell_type": "code",
   "execution_count": 16,
   "metadata": {},
   "outputs": [
    {
     "name": "stdout",
     "output_type": "stream",
     "text": [
      "5120\n",
      "640\n",
      "1280\n",
      "(Graph(num_nodes=15, num_edges=26,\n",
      "      ndata_schemes={'feat': Scheme(shape=(2,), dtype=torch.float32)}\n",
      "      edata_schemes={'feat': Scheme(shape=(), dtype=torch.int64)}), tensor([0.0000, 0.1739, 0.1260]), tensor([[ 8.6957e-02,  1.7391e-01,  3.9386e-03],\n",
      "        [ 8.6957e-02,  8.6957e-02,  1.2333e-02],\n",
      "        [ 1.3043e-01,  1.3043e-01,  5.0524e-03],\n",
      "        [ 1.7391e-01,  1.7391e-01, -2.8644e-03],\n",
      "        [ 0.0000e+00,  8.6957e-02,  2.7865e-02],\n",
      "        [ 0.0000e+00,  8.6957e-02,  1.5610e-02],\n",
      "        [ 8.6957e-02,  1.7391e-01,  1.6334e-04],\n",
      "        [ 4.3478e-02,  1.3043e-01, -1.3372e-01],\n",
      "        [ 8.6957e-02,  1.7391e-01, -3.5295e-04],\n",
      "        [ 0.0000e+00,  4.3478e-02, -1.9937e-02],\n",
      "        [ 8.6957e-02,  1.7391e-01,  3.3696e-02],\n",
      "        [ 8.6957e-02,  1.7391e-01,  1.6398e-02],\n",
      "        [ 0.0000e+00,  8.6957e-02, -2.3538e-02],\n",
      "        [ 0.0000e+00,  1.7391e-01,  4.5834e-02],\n",
      "        [ 8.6957e-02,  1.7391e-01,  1.9520e-02]]))\n",
      "(Graph(num_nodes=15, num_edges=116,\n",
      "      ndata_schemes={'feat': Scheme(shape=(2,), dtype=torch.float32)}\n",
      "      edata_schemes={'feat': Scheme(shape=(), dtype=torch.int64)}), tensor([1.0000, 0.0870, 0.3918]), tensor([[ 0.0870,  0.0870,  0.0139],\n",
      "        [ 0.0870,  0.0870,  0.0391],\n",
      "        [ 0.0870,  0.0870,  0.0817],\n",
      "        [ 0.0870,  0.0870,  0.1862],\n",
      "        [ 0.0870,  0.0870,  0.2063],\n",
      "        [ 0.0870,  0.0870, -0.2749],\n",
      "        [ 0.0870,  0.0870,  0.0917],\n",
      "        [ 0.0435,  0.0435, -0.3119],\n",
      "        [ 0.0870,  0.0870,  0.0947],\n",
      "        [ 0.0435,  0.0870, -0.2202],\n",
      "        [ 0.0870,  0.0870,  0.1342],\n",
      "        [ 0.0435,  0.0870,  0.1725],\n",
      "        [ 0.0870,  0.0870, -0.1564],\n",
      "        [ 0.0000,  0.0870,  0.1655],\n",
      "        [ 0.0435,  0.0870, -0.2223]]))\n",
      "(Graph(num_nodes=15, num_edges=24,\n",
      "      ndata_schemes={'feat': Scheme(shape=(2,), dtype=torch.float32)}\n",
      "      edata_schemes={'feat': Scheme(shape=(), dtype=torch.int64)}), tensor([0.0000, 0.2609, 0.0815]), tensor([[ 0.0000,  0.1739,  0.0056],\n",
      "        [ 0.0000,  0.1304,  0.0999],\n",
      "        [ 0.0000,  0.2609,  0.0288],\n",
      "        [ 0.0000,  0.2174, -0.0659],\n",
      "        [ 0.0000,  0.0435, -0.0025],\n",
      "        [ 0.2174,  0.2174, -0.0158],\n",
      "        [ 0.0000,  0.2174,  0.0892],\n",
      "        [ 0.0000,  0.0435,  0.0025],\n",
      "        [ 0.1739,  0.1739, -0.0029],\n",
      "        [ 0.0000,  0.2609, -0.0445],\n",
      "        [ 0.0435,  0.1739,  0.0607],\n",
      "        [ 0.0000,  0.1739, -0.1130],\n",
      "        [ 0.0000,  0.2174, -0.0458],\n",
      "        [ 0.1304,  0.1304,  0.0419],\n",
      "        [ 0.0870,  0.1304, -0.0381]]))\n"
     ]
    }
   ],
   "source": [
    "print(len(dataset.train))\n",
    "print(len(dataset.val))\n",
    "print(len(dataset.test))\n",
    "\n",
    "print(dataset.train[0])\n",
    "print(dataset.val[0])\n",
    "print(dataset.test[0])\n"
   ]
  },
  {
   "cell_type": "code",
   "execution_count": null,
   "metadata": {},
   "outputs": [],
   "source": []
  },
  {
   "cell_type": "code",
   "execution_count": 17,
   "metadata": {},
   "outputs": [
    {
     "name": "stdout",
     "output_type": "stream",
     "text": [
      "Time (sec): 7.805322885513306\n"
     ]
    }
   ],
   "source": [
    "start = time.time()\n",
    "with open('data/graphtheoryprop/GraphTheoryProp'+'.pkl','wb') as f:\n",
    "        pickle.dump([dataset.train,dataset.val,dataset.test],f)\n",
    "print('Time (sec):',time.time() - start)\n"
   ]
  },
  {
   "cell_type": "markdown",
   "metadata": {},
   "source": [
    "# Test load function"
   ]
  },
  {
   "cell_type": "code",
   "execution_count": 20,
   "metadata": {},
   "outputs": [
    {
     "name": "stdout",
     "output_type": "stream",
     "text": [
      "[I] Loading dataset GraphTheoryProp...\n",
      "train, test, val sizes : 5120 1280 640\n",
      "[I] Finished loading.\n",
      "[I] Data load time: 6.1830s\n"
     ]
    }
   ],
   "source": [
    "DATASET_NAME = 'GraphTheoryProp'\n",
    "dataset = LoadData(DATASET_NAME)\n",
    "trainset, valset, testset = dataset.train, dataset.val, dataset.test\n"
   ]
  },
  {
   "cell_type": "code",
   "execution_count": 21,
   "metadata": {},
   "outputs": [
    {
     "name": "stdout",
     "output_type": "stream",
     "text": [
      "<class 'data.graphtheoryprop.GraphTheoryPropDataset'>\n"
     ]
    }
   ],
   "source": [
    "batch_size = 10\n",
    "collate = GraphTheoryPropDataset.collate\n",
    "print(GraphTheoryPropDataset)\n",
    "train_loader = DataLoader(trainset, batch_size=batch_size, shuffle=True, collate_fn=collate)\n"
   ]
  },
  {
   "cell_type": "code",
   "execution_count": null,
   "metadata": {},
   "outputs": [],
   "source": []
  },
  {
   "cell_type": "code",
   "execution_count": null,
   "metadata": {},
   "outputs": [],
   "source": []
  },
  {
   "cell_type": "code",
   "execution_count": null,
   "metadata": {},
   "outputs": [],
   "source": []
  }
 ],
 "metadata": {
  "kernelspec": {
   "display_name": "Python 3",
   "language": "python",
   "name": "python3"
  },
  "language_info": {
   "codemirror_mode": {
    "name": "ipython",
    "version": 3
   },
   "file_extension": ".py",
   "mimetype": "text/x-python",
   "name": "python",
   "nbconvert_exporter": "python",
   "pygments_lexer": "ipython3",
   "version": "3.9.7"
  }
 },
 "nbformat": 4,
 "nbformat_minor": 4
}
